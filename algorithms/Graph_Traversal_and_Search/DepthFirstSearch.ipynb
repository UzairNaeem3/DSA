{
 "cells": [
  {
   "cell_type": "markdown",
   "metadata": {},
   "source": [
    "### Graph"
   ]
  },
  {
   "cell_type": "markdown",
   "metadata": {},
   "source": [
    "<img src = \"https://open4tech.com/wp-content/uploads/2019/01/BFS-DFS.png\" alt =\"Graph\" />"
   ]
  },
  {
   "cell_type": "code",
   "execution_count": 26,
   "metadata": {},
   "outputs": [],
   "source": [
    "adj_list = {\n",
    "    \"A\":[\"B\", \"C\", \"D\"],\n",
    "    \"B\":[],\n",
    "    \"C\":[\"E\", \"F\"],\n",
    "    \"D\":[\"F\"],\n",
    "    \"E\":[],\n",
    "    \"F\":[],\n",
    "}"
   ]
  },
  {
   "cell_type": "code",
   "execution_count": 27,
   "metadata": {},
   "outputs": [],
   "source": [
    "visited = set()  # To keep track of visited nodes\n",
    "parent = {}      # To keep track of the parent of each node for DFS tree construction\n",
    "\n",
    "dfs_traversal_output = []  # To store the DFS traversal order"
   ]
  },
  {
   "cell_type": "code",
   "execution_count": 28,
   "metadata": {},
   "outputs": [
    {
     "name": "stdout",
     "output_type": "stream",
     "text": [
      "{'A': None, 'B': None, 'C': None, 'D': None, 'E': None, 'F': None}\n"
     ]
    }
   ],
   "source": [
    "for node in adj_list.keys():\n",
    "    parent[node] = None\n",
    "        \n",
    "print(parent)"
   ]
  },
  {
   "cell_type": "code",
   "execution_count": 29,
   "metadata": {},
   "outputs": [],
   "source": [
    "source_node = \"A\"\n",
    "\n",
    "def DFS(source_node):\n",
    "    visited.add(source_node)\n",
    "    dfs_traversal_output.append(source_node)\n",
    "\n",
    "    # Explore all neighbors of the current node\n",
    "    for neighbor in adj_list[source_node]:\n",
    "        if neighbor not in visited:\n",
    "            parent[neighbor] = source_node\n",
    "            DFS(neighbor)\n",
    "        "
   ]
  },
  {
   "cell_type": "code",
   "execution_count": 30,
   "metadata": {},
   "outputs": [
    {
     "name": "stdout",
     "output_type": "stream",
     "text": [
      "['A', 'B', 'C', 'E', 'F', 'D']\n"
     ]
    }
   ],
   "source": [
    "for node in adj_list.keys():\n",
    "    if node not in visited:\n",
    "        DFS(node)\n",
    "        \n",
    "\n",
    "print(dfs_traversal_output)"
   ]
  },
  {
   "cell_type": "code",
   "execution_count": 24,
   "metadata": {},
   "outputs": [
    {
     "data": {
      "text/plain": [
       "{'A': None, 'B': 'A', 'C': 'A', 'D': 'A', 'E': 'C', 'F': 'C'}"
      ]
     },
     "execution_count": 24,
     "metadata": {},
     "output_type": "execute_result"
    }
   ],
   "source": [
    "parent"
   ]
  },
  {
   "cell_type": "code",
   "execution_count": null,
   "metadata": {},
   "outputs": [],
   "source": []
  }
 ],
 "metadata": {
  "kernelspec": {
   "display_name": "base",
   "language": "python",
   "name": "python3"
  },
  "language_info": {
   "codemirror_mode": {
    "name": "ipython",
    "version": 3
   },
   "file_extension": ".py",
   "mimetype": "text/x-python",
   "name": "python",
   "nbconvert_exporter": "python",
   "pygments_lexer": "ipython3",
   "version": "3.11.2"
  },
  "orig_nbformat": 4
 },
 "nbformat": 4,
 "nbformat_minor": 2
}
