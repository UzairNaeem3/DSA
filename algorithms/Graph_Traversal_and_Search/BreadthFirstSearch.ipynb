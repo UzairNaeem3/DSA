{
 "cells": [
  {
   "cell_type": "markdown",
   "metadata": {},
   "source": [
    "#### Graph"
   ]
  },
  {
   "cell_type": "markdown",
   "metadata": {},
   "source": [
    "<img src = \"https://static.javatpoint.com/ds/images/types-of-graph-in-data-structure10.png\" alt=\"GRAPH\" />"
   ]
  },
  {
   "cell_type": "code",
   "execution_count": 1,
   "metadata": {},
   "outputs": [],
   "source": [
    "# In this notebook, adjacency list has been used to represent a graph\n",
    "\n",
    "from queue import Queue\n",
    "\n",
    "adj_list = {\n",
    "    \"A\": [\"B\", \"D\"],\n",
    "    \"B\": [\"C\", \"A\"],\n",
    "    \"C\": [\"D\", \"B\"],\n",
    "    \"D\": [\"A\", \"C\", \"G\", \"E\"],\n",
    "    \"E\": [\"D\", \"F\"],\n",
    "    \"F\": [\"E\", \"G\"],\n",
    "    \"G\": [\"D\", \"F\"]\n",
    "}"
   ]
  },
  {
   "cell_type": "code",
   "execution_count": 2,
   "metadata": {},
   "outputs": [],
   "source": [
    "# Initializing all the required arrays and dictionaries\n",
    "\n",
    "visited = {} # To keep track of visited nodes\n",
    "level = {}   # To keep track of the level of each node, also known as distance dictionary\n",
    "parent = {}  # To keep track of the parent of each node so to find the minimum distance \n",
    "\n",
    "queue = Queue()  # Initiliazed Empty Queue\n",
    "bfs_traversal_output = []"
   ]
  },
  {
   "cell_type": "code",
   "execution_count": 3,
   "metadata": {},
   "outputs": [
    {
     "name": "stdout",
     "output_type": "stream",
     "text": [
      "{'A': False, 'B': False, 'C': False, 'D': False, 'E': False, 'F': False, 'G': False}\n",
      "{'A': -1, 'B': -1, 'C': -1, 'D': -1, 'E': -1, 'F': -1, 'G': -1}\n",
      "{'A': None, 'B': None, 'C': None, 'D': None, 'E': None, 'F': None, 'G': None}\n"
     ]
    }
   ],
   "source": [
    "for node in adj_list.keys():\n",
    "    visited[node] = False  # By default all the nodes are not visited\n",
    "    parent[node] = None    # By default parent of each node is None\n",
    "    level[node] = -1       # It will store the distance from source vertex, by default it is -1 or it can be infinity\n",
    "    \n",
    "\n",
    "print(visited)\n",
    "print(level)\n",
    "print(parent)"
   ]
  },
  {
   "cell_type": "code",
   "execution_count": 4,
   "metadata": {},
   "outputs": [
    {
     "name": "stdout",
     "output_type": "stream",
     "text": [
      "['A', 'B', 'D', 'C', 'G', 'E', 'F']\n"
     ]
    }
   ],
   "source": [
    "# Source Node: A\n",
    "\n",
    "source_node = \"A\"\n",
    "visited[source_node] = True\n",
    "level[source_node] = 0\n",
    "queue.put(source_node)\n",
    "\n",
    "while not queue.empty():\n",
    "    current_node = queue.get()\n",
    "    bfs_traversal_output.append(current_node)\n",
    "    \n",
    "    # Explore all the neighbors of current_node\n",
    "    for neighbor in adj_list[current_node]:\n",
    "        # If the neighbor is not visited \n",
    "        if not visited[neighbor]:\n",
    "            visited[neighbor] = True\n",
    "            parent[neighbor] = current_node\n",
    "            level[neighbor] = level[current_node] + 1\n",
    "            queue.put(neighbor)\n",
    "            \n",
    "print(bfs_traversal_output)"
   ]
  },
  {
   "cell_type": "code",
   "execution_count": 5,
   "metadata": {},
   "outputs": [
    {
     "name": "stdout",
     "output_type": "stream",
     "text": [
      "{'A': 0, 'B': 1, 'C': 2, 'D': 1, 'E': 2, 'F': 3, 'G': 2}\n",
      "3\n"
     ]
    }
   ],
   "source": [
    "# Shortest distance of all nodes from source node\n",
    "print(level)\n",
    "print(level[\"F\"])  # Distance of vertex F from source node"
   ]
  },
  {
   "cell_type": "code",
   "execution_count": 7,
   "metadata": {},
   "outputs": [
    {
     "data": {
      "text/plain": [
       "{'A': None, 'B': 'A', 'C': 'B', 'D': 'A', 'E': 'D', 'F': 'G', 'G': 'D'}"
      ]
     },
     "execution_count": 7,
     "metadata": {},
     "output_type": "execute_result"
    }
   ],
   "source": [
    "parent"
   ]
  },
  {
   "cell_type": "code",
   "execution_count": 6,
   "metadata": {},
   "outputs": [
    {
     "name": "stdout",
     "output_type": "stream",
     "text": [
      "['A', 'D', 'G', 'F']\n"
     ]
    }
   ],
   "source": [
    "# Shortest path of any node from source node\n",
    "\n",
    "vertex = \"F\"  # Fining path of vertex \"F\" from the source node that is \"A\"\n",
    "path = []\n",
    "\n",
    "while vertex is not None:\n",
    "    path.append(vertex)\n",
    "    vertex = parent[vertex]\n",
    "\n",
    "path.reverse()\n",
    "print(path)"
   ]
  },
  {
   "cell_type": "code",
   "execution_count": null,
   "metadata": {},
   "outputs": [],
   "source": []
  }
 ],
 "metadata": {
  "kernelspec": {
   "display_name": "Python 3",
   "language": "python",
   "name": "python3"
  },
  "language_info": {
   "codemirror_mode": {
    "name": "ipython",
    "version": 3
   },
   "file_extension": ".py",
   "mimetype": "text/x-python",
   "name": "python",
   "nbconvert_exporter": "python",
   "pygments_lexer": "ipython3",
   "version": "3.9.13"
  },
  "orig_nbformat": 4
 },
 "nbformat": 4,
 "nbformat_minor": 2
}
